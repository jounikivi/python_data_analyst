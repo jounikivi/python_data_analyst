{
 "cells": [
  {
   "cell_type": "markdown",
   "metadata": {},
   "source": [
    "Laatija: 21.11.2022 Matti Kuikka\n",
    "\n"
   ]
  },
  {
   "cell_type": "markdown",
   "metadata": {},
   "source": [
    "# Opettajan demoharjoitus 1\n",
    "- DEMO, JOKA OLI TUNNILLA (21.11.2022).\n",
    "\n",
    "Voit tehdä kaikki ao asiat, ja kokeilla muutella koodi-osia (In [ ]:) ja suorittaa niitä \"Run\". \n",
    "Voit myös lisäillä soluja ( + ).  Solun tyypin voi vaihtaa: Code (suoritettava koodi), RAW NBConvert (teksti, joka parhaiten sopii sen editointiin) tai Markdown (teksti, joka suorituksen jälkeen näkyy pelkkänä tekstinä)\n",
    "\n",
    "Luo tietokoneelle kansio ja lataa tiedostot \"Biking2020.xlsx\" ja \"Liikunta-Excel2.xlsx\" sinne. Lataa kansioon myös harjoituksen ohje: \"Harjoitus1-opettajan-demo_2022.ipynb\".\n",
    "\n",
    "Avaa Anaconda Navigator ja käynnistä Jupyter Notebook.\n",
    "\n",
    "Mene kansioon, jossa on lataamasi tiedostot Jupyterillä."
   ]
  },
  {
   "cell_type": "markdown",
   "metadata": {},
   "source": [
    "## Tietojen lukeminen ja esittäminen"
   ]
  },
  {
   "cell_type": "markdown",
   "metadata": {},
   "source": [
    "Ladataan kirjastot ja luetaan Excel-tiedoston tiedot DataFrameen ja tarkista tiedoston koko (shape) ja kuinka monta tietoa (size) luetussa datassa on."
   ]
  },
  {
   "cell_type": "code",
   "execution_count": null,
   "metadata": {},
   "outputs": [],
   "source": [
    "import pandas as pd  # Pandas käyttöön\n",
    "import numpy as np   # Numpy käyttöön\n",
    "import datetime as dt  # Datetime käyttöön ajan käsittelyä varten\n",
    "import matplotlib as mp # Ladataan kirjastot matplotlib \n",
    "import matplotlib.pyplot as plt # ja matplotlib.pyplot) kuvaajien käsittelyyn\n",
    "import seaborn as sns # Seaborn näyttävien kuvien käsittelyyn\n",
    "# HUOM: Kaikki käytettävät kirjastot on hyvä ladata aluksi käyttöön!\n",
    "liikunta = pd.read_excel('Liikunta-Excel2.xlsx', sheet_name='Data') # Datan lukeminen\n",
    "print(liikunta.shape)  # DataFramen koko\n",
    "liikunta.size # tietojen kokonaismäärä"
   ]
  },
  {
   "cell_type": "markdown",
   "metadata": {},
   "source": [
    "Näytetään DataFramen alkuosa, 5 ensimmäistä havainto."
   ]
  },
  {
   "cell_type": "code",
   "execution_count": null,
   "metadata": {},
   "outputs": [],
   "source": [
    "liikunta.head()"
   ]
  },
  {
   "cell_type": "markdown",
   "metadata": {},
   "source": [
    "Indeksi voidaan myös piilottaa ja tulostaa alkuosasta tietty määrä.\n",
    "- Style, josta myöhemmin lisää"
   ]
  },
  {
   "cell_type": "code",
   "execution_count": null,
   "metadata": {},
   "outputs": [],
   "source": [
    "liikunta.head(7).style.hide_index()"
   ]
  },
  {
   "cell_type": "markdown",
   "metadata": {},
   "source": [
    "Näytetään tunnusluvut kaikista numeroarvoisista muuttujista.\n",
    "- describe() tulostaa 5:n luvun yhteenvedon (min, alaneljännes, mediaani, yläneljännes ja max) sekä keskiarvon, keskihajonnat ja havaintojen lukumäärät."
   ]
  },
  {
   "cell_type": "code",
   "execution_count": null,
   "metadata": {},
   "outputs": [],
   "source": [
    "# kaikkien numeeristen arvojen tunnusluvut \n",
    "liikunta.describe()"
   ]
  },
  {
   "cell_type": "markdown",
   "metadata": {},
   "source": [
    "- info() tulostaa kaikkien muuttujien tyypit"
   ]
  },
  {
   "cell_type": "code",
   "execution_count": null,
   "metadata": {},
   "outputs": [],
   "source": [
    "liikunta.info()"
   ]
  },
  {
   "cell_type": "markdown",
   "metadata": {},
   "source": [
    "### Help-toiminto\n",
    "- Lisää ?-merkki funktion perään"
   ]
  },
  {
   "cell_type": "code",
   "execution_count": null,
   "metadata": {},
   "outputs": [],
   "source": [
    "pd.read_excel?\n",
    "# help-toiminteen käyttö"
   ]
  },
  {
   "cell_type": "markdown",
   "metadata": {},
   "source": [
    "### Ladataan dataa toisesta tiedostosta\n",
    "- Ladataan Excel-tiedosto Biking2020. \n",
    "- Tallennetaan se DataFrameen (biking = pd.read_excel ...) ja tulostetaan tiedoston koko (shape)"
   ]
  },
  {
   "cell_type": "code",
   "execution_count": null,
   "metadata": {},
   "outputs": [],
   "source": [
    "biking = pd.read_excel('Biking2020.xlsx', sheet_name='Data')\n",
    "print(biking.shape)"
   ]
  },
  {
   "cell_type": "markdown",
   "metadata": {},
   "source": [
    "Tulostetaan taulukon loppuosasta 3 viimeistä havaintoa."
   ]
  },
  {
   "cell_type": "code",
   "execution_count": null,
   "metadata": {},
   "outputs": [],
   "source": [
    "biking.tail(3)"
   ]
  },
  {
   "cell_type": "markdown",
   "metadata": {},
   "source": [
    "Tulostetaan kaikkien muuttujien keskiarvot"
   ]
  },
  {
   "cell_type": "code",
   "execution_count": null,
   "metadata": {},
   "outputs": [],
   "source": [
    "biking.mean()"
   ]
  },
  {
   "cell_type": "markdown",
   "metadata": {},
   "source": [
    "Tulostetaan keskihajonta"
   ]
  },
  {
   "cell_type": "code",
   "execution_count": null,
   "metadata": {},
   "outputs": [],
   "source": [
    "# yksittäisen muuttuja keskihajonta\n",
    "biking.matka.std()"
   ]
  },
  {
   "cell_type": "code",
   "execution_count": null,
   "metadata": {},
   "outputs": [],
   "source": [
    "# Tulostetaan kaikkien muuttujien keskihajonnat\n",
    "biking.std()"
   ]
  },
  {
   "cell_type": "code",
   "execution_count": null,
   "metadata": {},
   "outputs": [],
   "source": [
    "# Tulostetaan kaikkien muuttujien mediaanit.\n",
    "biking.median()"
   ]
  },
  {
   "cell_type": "code",
   "execution_count": null,
   "metadata": {},
   "outputs": [],
   "source": [
    "# Tulostetaan tunnusluvut (mukaan lukien viiden numeron summary) \n",
    "# kaikista muuttujista\n",
    "biking.describe()\n"
   ]
  },
  {
   "cell_type": "code",
   "execution_count": null,
   "metadata": {},
   "outputs": [],
   "source": [
    "# yksittäisen muuttujan tunnusluvut\n",
    "biking.matka.describe()"
   ]
  },
  {
   "cell_type": "markdown",
   "metadata": {},
   "source": [
    "# Viitaukset tietoihin loc ja iloc metodeilla"
   ]
  },
  {
   "cell_type": "markdown",
   "metadata": {},
   "source": [
    "## iloc"
   ]
  },
  {
   "cell_type": "markdown",
   "metadata": {},
   "source": [
    "iloc tulostaa valituttujen rivien ja sarakkeiden arvot. Riveiksi annetaan numeroarvot mistä mihin esim. 5:7, jolloin tulostuu 5. ja 6. rivin arvot. Sarakkeiksi vastaavasti esim. 2:5, jolloin tulostuu sarakkeiden 2, 3 ja 4 arvot.\n",
    "- iloc[rivit, sarakkeet]\n",
    "- iloc[:,sarakkeet] tulostaa kaikki havaintorivien valitut sarakkeet\n",
    "- iloc[rivit,-1] tulostaa viimeisen sarakkeen arvot "
   ]
  },
  {
   "cell_type": "code",
   "execution_count": null,
   "metadata": {},
   "outputs": [],
   "source": [
    "# Kolmen ensimmäisen muuttujan arvot iloc-funktiolla 10 ensimmäistä havaintoa.\n",
    "biking.iloc [:,0:3]  "
   ]
  },
  {
   "cell_type": "code",
   "execution_count": null,
   "metadata": {},
   "outputs": [],
   "source": [
    "# rivien 2 -4 viimeisen sarakkeen arvot\n",
    "biking.iloc[2:5,-1]"
   ]
  },
  {
   "cell_type": "code",
   "execution_count": null,
   "metadata": {},
   "outputs": [],
   "source": [
    "# tulostetaan havainnot riveiltä 0 - 10 muuttujalle, \n",
    "# jotka sarakkeiss 6-8\n",
    "biking.iloc [0:10,6:9]  # paikalla 6-8 aika rivit 0 - 9"
   ]
  },
  {
   "cell_type": "code",
   "execution_count": null,
   "metadata": {},
   "outputs": [],
   "source": [
    "# Kaikki tiedot viimeisestä havainnosta\n",
    "biking.iloc [:,-1] "
   ]
  },
  {
   "cell_type": "markdown",
   "metadata": {},
   "source": [
    "## 2.2. loc"
   ]
  },
  {
   "cell_type": "markdown",
   "metadata": {},
   "source": [
    "loc tulostaa valituttujen rivien ja sarakkeiden arvot sarakkeiden nimet antamalla. \n",
    "- Riveiksi annetaan numeroarvot. \n",
    "- Sarakkeiksi annetaan muuttujien nimet pilkulla erotettuina."
   ]
  },
  {
   "cell_type": "code",
   "execution_count": null,
   "metadata": {},
   "outputs": [],
   "source": [
    "# tulostetaan muuttujien nimet\n",
    "biking.columns"
   ]
  },
  {
   "cell_type": "code",
   "execution_count": null,
   "metadata": {},
   "outputs": [],
   "source": [
    "# kaikki havainnot, valitut muuttujat\n",
    "bike = biking.loc [:,['matka','aika','keskisyke','maksimisyke']]  \n",
    "# Edellä luotu uusi DataFrame, jossa vai eo. sarakkeiden data"
   ]
  },
  {
   "cell_type": "code",
   "execution_count": null,
   "metadata": {},
   "outputs": [],
   "source": [
    "bike.head()"
   ]
  },
  {
   "cell_type": "raw",
   "metadata": {},
   "source": [
    "Keskisyke kaikille havainnoille loc-metodilla.\n",
    "loc[:, ] ensimmäinen parametri : tarkoittaa kaikkia rivejä."
   ]
  },
  {
   "cell_type": "code",
   "execution_count": null,
   "metadata": {},
   "outputs": [],
   "source": [
    "# Keskisyke kaikille havainnoille loc-metodilla.\n",
    "biking.loc [:,['keskisyke']]  "
   ]
  },
  {
   "cell_type": "markdown",
   "metadata": {},
   "source": [
    "# Kuvaajien tekeminen "
   ]
  },
  {
   "cell_type": "markdown",
   "metadata": {},
   "source": [
    "### Pandas Boxplot"
   ]
  },
  {
   "cell_type": "code",
   "execution_count": null,
   "metadata": {},
   "outputs": [],
   "source": [
    "biking.boxplot?"
   ]
  },
  {
   "cell_type": "code",
   "execution_count": null,
   "metadata": {},
   "outputs": [],
   "source": [
    "# kaksi muuttujaa samaan kuvaan\n",
    "biking.boxplot(column =['keskisyke','maksimisyke'], grid = True)  # grid = true: tausta viivat kuvassa"
   ]
  },
  {
   "cell_type": "markdown",
   "metadata": {},
   "source": [
    "### Matplotlibin avulla voidaa lisätä tietoja kuvaan"
   ]
  },
  {
   "cell_type": "markdown",
   "metadata": {},
   "source": [
    "Aiemmin oli ladattu kirjastot (matplotlib ja matplotlib.pyplot) kuvaajien käsittelyyn. "
   ]
  },
  {
   "cell_type": "code",
   "execution_count": null,
   "metadata": {},
   "outputs": [],
   "source": [
    "# kuva on olio, jonka metodeille annetaa arvoja ja sitten näytetään se\n",
    "# show-metodilla\n",
    "biking.boxplot(column =['keskisyke','maksimisyke'], grid = True)  # grid = true: tausta viivat kuvassa\n",
    "plt.ylabel('syke')\n",
    "plt.xlabel('Sykkeet')\n",
    "plt.title('Sykkeiden yhteenveto')\n",
    "plt.show()"
   ]
  },
  {
   "cell_type": "code",
   "execution_count": null,
   "metadata": {},
   "outputs": [],
   "source": [
    "# Matplotlibia käyttäen muuttujien keskinopeus ja maksiminopeus \n",
    "# boxplot-kuvat ilman grid-viivoja\n",
    "biking.boxplot(column =['keskinopeus','maksiminopeus'], grid = False) \n",
    "plt.ylabel ('km/h')  \n",
    "plt.xlabel('Nopeudet')\n",
    "plt.title('Nopeudet pyöräilyssä')\n",
    "plt.show()"
   ]
  },
  {
   "cell_type": "markdown",
   "metadata": {},
   "source": [
    "## Seaborn Boxplot"
   ]
  },
  {
   "cell_type": "markdown",
   "metadata": {},
   "source": [
    "Seaborn:\n",
    "- import seaborn as sns (oli ja aiemmin ladattu)\n",
    "- Seaborn käyttää Matplotlibiä ja sen avulla saa helposti tehtyä näyttäviä kuvia"
   ]
  },
  {
   "cell_type": "code",
   "execution_count": null,
   "metadata": {},
   "outputs": [],
   "source": [
    "sns.boxplot?"
   ]
  },
  {
   "cell_type": "code",
   "execution_count": null,
   "metadata": {},
   "outputs": [],
   "source": [
    "# Tehdään Seabornia käyttäen muuttujien \n",
    "# keskinopeus ja maksiminopeus boxplot-kuvat.\n",
    "sns.boxplot(y='maksimisyke',  # pystyakselille muuttuja\n",
    "                 data=biking,  # mistä data luetaan\n",
    "                 palette='bright')   # bright värimaailma\n",
    "# perustoiminne: muuttujien yms. nimet kuvissa kuten datassa!"
   ]
  },
  {
   "cell_type": "code",
   "execution_count": null,
   "metadata": {},
   "outputs": [],
   "source": [
    "# Lisätään kuvaan otsikko ja x-akselin nimi Matplotlibilla.\n",
    "sns.boxplot(x='maksiminopeus', \n",
    "                 data=biking, \n",
    "                 palette='muted')   # muted värimaailma\n",
    "plt.xlabel ('km/h')  # lisätään kuvaan infoa tiedosta\n",
    "plt.title('Maksiminopeus pyöräilyssä')   # otsikko\n",
    "plt.show()"
   ]
  },
  {
   "cell_type": "markdown",
   "metadata": {},
   "source": [
    "## Seaborn Histogrammi"
   ]
  },
  {
   "cell_type": "code",
   "execution_count": null,
   "metadata": {},
   "outputs": [],
   "source": [
    "sns.histplot?"
   ]
  },
  {
   "cell_type": "raw",
   "metadata": {},
   "source": [
    "Huomaa, että muuttuja voidaa valita \n",
    "- joko antamalla se muodossa 'dataframenimi.muuuttuja'\n",
    "- tai data = dataframenimi, x/y = 'muuttujan nimi' "
   ]
  },
  {
   "cell_type": "code",
   "execution_count": null,
   "metadata": {},
   "outputs": [],
   "source": [
    "sns.histplot(biking.maksimisyke, color='b', kde = False, label='Maksimi')  # kde parametrilla määritetään näkyykö vastaava käyrä\n",
    "plt.ylabel(\"lkm/sykealue\", fontsize=16)   # tekstien fontteja voi myös muuttaa\n",
    "plt.title('Harjoittelujen sykkeet', fontsize=18)\n",
    "# plt.show()\n",
    "# Huomaa miene plt.show() puute vaikuttaa"
   ]
  },
  {
   "cell_type": "code",
   "execution_count": null,
   "metadata": {},
   "outputs": [],
   "source": [
    "sns.histplot(data = biking, x= 'maksimisyke', color='g', bins=5, kde = True) \n",
    "# jos kde-parametri, niin käyrä joka paljastaa, onko data normaalijakautunut\n",
    "plt.xlabel('sykealueet', fontsize=16)\n",
    "plt.ylabel('lkm/sykealue', fontsize=16)   \n",
    "plt.title('Harjoittelujen maksimisykkeet', fontsize=18)\n",
    "plt.show()  # Kuvan tulostus (kaikki parametrit)"
   ]
  },
  {
   "cell_type": "markdown",
   "metadata": {},
   "source": [
    "### Kuvaan voidaan myös lisätä tietoa Matplotlibillä\n",
    "- legend avulla saada tulostettua label-parametrit"
   ]
  },
  {
   "cell_type": "code",
   "execution_count": null,
   "metadata": {},
   "outputs": [],
   "source": [
    "# Tehdään Seabornin käyttäen histogrammi muuttujista maksimisyke \n",
    "# ja keskisyke samaan kuvaan. Muuttujien pylväille eri värit.\n",
    "sns.histplot(biking.maksimisyke, color='red', kde = False, label='Maksimi')   \n",
    "# color väri, label tekstinä kuvaan\n",
    "sns.histplot(biking.keskisyke, color='blue', kde= False, label='Keskiarvo')\n",
    "plt.legend(prop={'size': 12})   \n",
    "#  tämän avulla tulostetaan labelit (muuttujien nimet) kuvaan\n",
    "plt.xlabel('sykealueet', fontsize=16)\n",
    "plt.ylabel(\"lkm/sykealue\", fontsize=16)\n",
    "plt.title('Harjoittelujen sykkeet', fontsize=18)\n",
    "plt.show()"
   ]
  },
  {
   "cell_type": "markdown",
   "metadata": {},
   "source": [
    "# Matplotlib Histogrammmi"
   ]
  },
  {
   "cell_type": "code",
   "execution_count": null,
   "metadata": {},
   "outputs": [],
   "source": [
    "plt.hist?"
   ]
  },
  {
   "cell_type": "code",
   "execution_count": null,
   "metadata": {},
   "outputs": [],
   "source": [
    "# Huomaa, että värit voidaan antaa lyhyessä \n",
    "# esim. 'r' tai pitkässä 'blue' muodossa\n",
    "plt.hist(biking.matka, bins=15, color='r',edgecolor='blue')  \n",
    "# bins kertoo pylväiden lukumäärän\n",
    "plt.xlabel('Matka', fontsize=16)\n",
    "plt.ylabel(\"lkm\")\n",
    "plt.title('Pyöräilymatkojen pituudet', fontsize=18)\n",
    "# kuvan tallennus ennen plt.show(), jossa \n",
    "# bbox_inches='tight' avulla koko kuva varmasti tallentuu\n",
    "plt.savefig('Bikinghist1.png', dpi=300, bbox_inches='tight')\n",
    "plt.show()   # Käytä kuvaajissa, jotta kaikki kuvaajan tiedot tulostuu"
   ]
  },
  {
   "cell_type": "code",
   "execution_count": null,
   "metadata": {
    "scrolled": true
   },
   "outputs": [],
   "source": [
    "# Useampi histogrammi samaan kuvaan Matplotlibillä.\n",
    "plt.hist(biking.maksimisyke, bins=15, color='r', \n",
    "         edgecolor = 'black', label='Maksimisyke')\n",
    "plt.hist(biking.keskisyke, bins=15, color='b', \n",
    "         edgecolor = 'green' , label='Keskisyke')\n",
    "plt.xlabel('Sykkeet', fontsize=16)\n",
    "plt.ylabel(\"Syke\")\n",
    "plt.legend(prop={'size': 12}, loc ='upper right')\n",
    "plt.title('Pyöräilyn sykkeet', fontsize=18)\n",
    "plt.show()"
   ]
  },
  {
   "cell_type": "markdown",
   "metadata": {},
   "source": [
    "# Matplotlib Hajontakaavio \n"
   ]
  },
  {
   "cell_type": "markdown",
   "metadata": {},
   "source": [
    "Matplotlibissa scatter-toiminne hajontakaavion tekemiseen"
   ]
  },
  {
   "cell_type": "code",
   "execution_count": null,
   "metadata": {},
   "outputs": [],
   "source": [
    "plt.scatter?"
   ]
  },
  {
   "cell_type": "code",
   "execution_count": null,
   "metadata": {},
   "outputs": [],
   "source": [
    "# Tehdään Matplotlibia käyttäen hajontakaavio, jossa muuttujat matka ja kalorit.\n",
    "plt.xlabel('Matka', fontsize=16)\n",
    "plt.ylabel('Kalorit', fontsize=16)\n",
    "plt.title('Kalorien kulutus', fontsize=18)\n",
    "plt.scatter(biking.matka,biking.kalorit, color = 'green') \n",
    "# scatter-toiminteella hajontakaavio\n",
    "plt.show()"
   ]
  },
  {
   "cell_type": "markdown",
   "metadata": {},
   "source": [
    "## Seaborn Pylväskaavio "
   ]
  },
  {
   "cell_type": "markdown",
   "metadata": {},
   "source": [
    "seaborn.countplot"
   ]
  },
  {
   "cell_type": "code",
   "execution_count": null,
   "metadata": {},
   "outputs": [],
   "source": [
    "sns.countplot?"
   ]
  },
  {
   "cell_type": "code",
   "execution_count": null,
   "metadata": {},
   "outputs": [],
   "source": [
    "# Tehdään pylväskaavio Suorituksen_tyyppi muuttujasta Seaborn avulla.\n",
    "# Käytetään aiemmin luettua DataFramea liikunta\n",
    "sns.countplot(data = liikunta, x = 'Suorituksen_tyyppi')  \n",
    "# x-akselin ja y-akselin nimiksi tulee muuttujien nimet!"
   ]
  },
  {
   "cell_type": "markdown",
   "metadata": {},
   "source": [
    "Matplotlibin avulla muutetaan akselien nimet ja lisätään otsikko\n",
    "Kokeile, mitä tapahtuu, jos muutat rivin \"plt.show() kommentiksi"
   ]
  },
  {
   "cell_type": "code",
   "execution_count": null,
   "metadata": {},
   "outputs": [],
   "source": [
    "sns.countplot(data = liikunta, y = 'Suorituksen_tyyppi',  palette='dark' )  \n",
    "plt.xlabel('Lukumäärä', fontsize=14)   # vaihdetaan x-akselin nimi\n",
    "plt.ylabel(\"\")  # poisteaan y-akselilta muuttujan nimi\n",
    "plt.title('Suoritusten tyyppien lukumäärät', fontsize=18)  # otsikko kuaavajalle\n",
    "plt.show()"
   ]
  },
  {
   "cell_type": "markdown",
   "metadata": {},
   "source": [
    "### Palette\n",
    "Kuvien värejä voi muuttaa palette-parametrin avulla.\n",
    "- lue lisää: https://seaborn.pydata.org/tutorial/color_palettes.html"
   ]
  },
  {
   "cell_type": "code",
   "execution_count": null,
   "metadata": {},
   "outputs": [],
   "source": [
    "sns.countplot(data = liikunta, x = 'Suorituksen_tyyppi', palette='bright')  \n",
    "plt.xlabel('Lajit', fontsize=14)   # vaihdetaan x-akselin nimi\n",
    "plt.ylabel(\"Lukumäärä\", fontsize=14)  # vaihdetaan y-akselin nimi\n",
    "plt.title('Suoritusten Tyypit', fontsize=18)  # otsikko kuaavajalle\n",
    "plt.show()"
   ]
  },
  {
   "cell_type": "raw",
   "metadata": {},
   "source": [
    "Tutki Seaborn pylväskaavion countplot parametreja, ja vaihda pylväiden värit! "
   ]
  },
  {
   "cell_type": "markdown",
   "metadata": {},
   "source": [
    "## Seaborn Hajontakaavio "
   ]
  },
  {
   "cell_type": "markdown",
   "metadata": {},
   "source": [
    "Seabornilla on useita eri funktioita hajontakaavioiden tekemiseen.\n",
    "- Ohessa lmplot, jolla voi tehdä hajontakaavion, johon tuleel lineaarinen trendiviiva\n",
    "- Huomaan hue-parametrin käyttö, jolla saa tietoja eritelytä per valittu kategorinen muuttuja"
   ]
  },
  {
   "cell_type": "code",
   "execution_count": null,
   "metadata": {},
   "outputs": [],
   "source": [
    "# esimerkki hajontakaaviosta Seabornilla lmplot-funktiolla\n",
    "sns.lmplot(x='Matka',y='Kalorit', data=liikunta, hue='Suorituksen_tyyppi')\n",
    "plt.title('Hajontakaavio per lajit', fontsize=18)  # otsikko kuaavajalle\n",
    "plt.ylabel('Kalorien kulutus', fontsize=14)   # vaihdetaan y-akselin nimi\n",
    "plt.xlabel('Matka (km)', fontsize=14)   # vaihdetaan x-akselin nimi\n",
    "plt.show()"
   ]
  },
  {
   "cell_type": "markdown",
   "metadata": {},
   "source": [
    "# Pandas taulukot\n",
    "- Frekvenssikaavioita tai prosenttiajakaumia saa tehtyä esimerkiksi Pandas crosstab-toiminteella\n",
    "- groupby-toiminteella voidaan tutkia millaisia eri arvoja on jollakin muuttujila"
   ]
  },
  {
   "cell_type": "code",
   "execution_count": null,
   "metadata": {},
   "outputs": [],
   "source": [
    "# tarkastellaan ensin mitä eri suorituksia DataFramessa liikunta on\n",
    "liikunta.groupby([\"Suorituksen_tyyppi\"]).head(2)"
   ]
  },
  {
   "cell_type": "code",
   "execution_count": null,
   "metadata": {},
   "outputs": [],
   "source": [
    "# Lasketaan frekvenssit crosstab-funktiolla\n",
    "lajit = pd.crosstab(liikunta['Suorituksen_tyyppi'], 'lkm')\n",
    "lajit"
   ]
  },
  {
   "cell_type": "code",
   "execution_count": null,
   "metadata": {},
   "outputs": [],
   "source": [
    "# Lisätään taulukkoon prosenttiosuudet\n",
    "tot = lajit['lkm'].sum()  # lasketaan kuinka monta suoritusta kaikkiaan\n",
    "# lasketaan kunkin lajin osuus prosentteina, ja lisätään uusi sarake '%'\n",
    "lajit['%'] = (lajit['lkm']/tot)*100 \n",
    "lajit"
   ]
  },
  {
   "cell_type": "code",
   "execution_count": null,
   "metadata": {},
   "outputs": [],
   "source": [
    "# Häiritsevän otsikon (col_0) poisto\n",
    "lajit.columns.name='' \n",
    "lajit"
   ]
  },
  {
   "cell_type": "code",
   "execution_count": null,
   "metadata": {},
   "outputs": [],
   "source": [
    "# muotoilaan tulostusta \n",
    "# lkm-sarakkeeseen 0 desimaalia, %-sarakkeeseen 1 desimaali\n",
    "format = {'lkm':'{:.0f}', '%':'{:.1f} %'}\n",
    "# Taulukon näyttäminen eo. formaatissa\n",
    "lajit.style.format(format)"
   ]
  },
  {
   "cell_type": "code",
   "execution_count": null,
   "metadata": {},
   "outputs": [],
   "source": [
    "# lisätään vielä Yhteensä rivi\n",
    "lajit.loc['Yhteensä'] = lajit.sum()\n",
    "lajit"
   ]
  },
  {
   "cell_type": "markdown",
   "metadata": {},
   "source": [
    "#### Tässä kaikki eo. kerralla!"
   ]
  },
  {
   "cell_type": "code",
   "execution_count": null,
   "metadata": {},
   "outputs": [],
   "source": [
    "# Lasketaan frekvenssit crosstab-funktiolla\n",
    "lajit = pd.crosstab(liikunta['Suorituksen_tyyppi'], 'lkm')\n",
    "tot = lajit['lkm'].sum()  # lasketaan kuinka monta suoritusta kaikkiaan\n",
    "# lasketaan kunkin lajin osuus prosentteina, ja lisätään uusi sarake '%'\n",
    "lajit['%'] = (lajit['lkm']/tot)*100 \n",
    "lajit.columns.name='' \n",
    "# lkm-sarakkeeseen 0 desimaalia, %-sarakkeeseen 1 desimaali\n",
    "format = {'lkm':'{:.0f}', '%':'{:.1f} %'}\n",
    "# Taulukon näyttäminen eo. formaatissa\n",
    "lajit.style.format(format)"
   ]
  },
  {
   "cell_type": "markdown",
   "metadata": {},
   "source": [
    "### Ensi kerralla usean muuttujan kuvaajista ja analysoinneista, pivot- ja ristiintaulukoinnista sekä puuttuvien arvojen (nan) käsittelystä.\n"
   ]
  },
  {
   "cell_type": "code",
   "execution_count": null,
   "metadata": {},
   "outputs": [],
   "source": [
    "biking.head(1)"
   ]
  },
  {
   "cell_type": "code",
   "execution_count": null,
   "metadata": {},
   "outputs": [],
   "source": [
    "# esimerkki pivot-taulukosta, joka muotoiltu\n",
    "biking.pivot_table(values='matka', index='selitys', columns='kuukausi').style.format(precision=0)\\\n",
    "                                                                   .background_gradient(cmap='Reds', axis=None)"
   ]
  },
  {
   "cell_type": "code",
   "execution_count": null,
   "metadata": {},
   "outputs": [],
   "source": []
  }
 ],
 "metadata": {
  "kernelspec": {
   "display_name": "Python 3 (ipykernel)",
   "language": "python",
   "name": "python3"
  },
  "language_info": {
   "codemirror_mode": {
    "name": "ipython",
    "version": 3
   },
   "file_extension": ".py",
   "mimetype": "text/x-python",
   "name": "python",
   "nbconvert_exporter": "python",
   "pygments_lexer": "ipython3",
   "version": "3.9.7"
  }
 },
 "nbformat": 4,
 "nbformat_minor": 2
}
